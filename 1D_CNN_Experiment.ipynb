{
  "nbformat": 4,
  "nbformat_minor": 0,
  "metadata": {
    "colab": {
      "provenance": []
    },
    "kernelspec": {
      "name": "python3",
      "display_name": "Python 3"
    },
    "language_info": {
      "name": "python"
    }
  },
  "cells": [
    {
      "cell_type": "code",
      "execution_count": 82,
      "metadata": {
        "colab": {
          "base_uri": "https://localhost:8080/"
        },
        "id": "XK24rgaUb9uF",
        "outputId": "395092d0-45b1-49f8-8572-bef2bf8ea8dc"
      },
      "outputs": [
        {
          "output_type": "stream",
          "name": "stdout",
          "text": [
            "Mounted at /content/drive/\n"
          ]
        }
      ],
      "source": [
        "import keras\n",
        "from google.colab import drive\n",
        "drive.mount('/content/drive/', force_remount=True)\n",
        "import sys\n",
        "sys.path.append('/content/drive/My Drive/ML_trace_predictor/')\n",
        "import perceptron\n",
        "import features as f\n",
        "import numpy as np"
      ]
    },
    {
      "cell_type": "code",
      "source": [
        "history_length = 4\n",
        "num_of_classes = 16\n",
        "ifthenelse_filepath  = '/content/drive/My Drive/ML_trace_predictor/datafiles/ifthenelse/predictionAccuracy.csv'\n",
        "#libquantum_filepath  = 'datafiles/libquantum/predictionAccuracy.csv'\n",
        "libquantum_filepath  = '/content/drive/My Drive/ML_trace_predictor/datafiles/short_libquantum/predictionAccuracy.csv'\n",
        "nested_filepath      = '/content/drive/My Drive/ML_trace_predictor/datafiles/nested/predictionAccuracy.csv'\n",
        "consecutive_filepath = '/content/drive/My Drive/ML_trace_predictor/datafiles/consecutive/predictionAccuracy.csv'\n",
        "\n",
        "ifthenelse_features, ifthenelse_labels = f.generateTraceFeatures(consecutive_filepath, history_length, num_of_classes)"
      ],
      "metadata": {
        "id": "2ye7NIIncKEq"
      },
      "execution_count": 84,
      "outputs": []
    },
    {
      "cell_type": "code",
      "source": [
        "from sklearn.preprocessing import OneHotEncoder"
      ],
      "metadata": {
        "id": "gezDMXhrjaRU"
      },
      "execution_count": 18,
      "outputs": []
    },
    {
      "cell_type": "markdown",
      "source": [
        "## If then Else"
      ],
      "metadata": {
        "id": "BBXDQ7SemU_M"
      }
    },
    {
      "cell_type": "code",
      "source": [
        "ifthenelse_labels = ifthenelse_labels.reshape(-1,1)\n",
        "Label_encoder = OneHotEncoder(sparse=False)\n",
        "Label_encoder.fit(ifthenelse_labels)\n",
        "ifthenelse_labels = Label_encoder.transform(ifthenelse_labels)\n",
        "ifthenelse_labels"
      ],
      "metadata": {
        "colab": {
          "base_uri": "https://localhost:8080/"
        },
        "id": "P595ZDNBkVq0",
        "outputId": "47ee1710-c553-44a9-f918-131e0d44f7a5"
      },
      "execution_count": 32,
      "outputs": [
        {
          "output_type": "execute_result",
          "data": {
            "text/plain": [
              "array([[0., 0., 1., 0.],\n",
              "       [0., 0., 0., 1.],\n",
              "       [1., 0., 0., 0.],\n",
              "       ...,\n",
              "       [0., 0., 1., 0.],\n",
              "       [1., 0., 0., 0.],\n",
              "       [0., 0., 0., 1.]])"
            ]
          },
          "metadata": {},
          "execution_count": 32
        }
      ]
    },
    {
      "cell_type": "code",
      "source": [
        "ifthenelse_features = np.expand_dims(ifthenelse_features,2)"
      ],
      "metadata": {
        "id": "HsdzI5YCklQP"
      },
      "execution_count": 34,
      "outputs": []
    },
    {
      "cell_type": "code",
      "source": [
        "n_timesteps, n_features = ifthenelse_features.shape[1], ifthenelse_features.shape[2]"
      ],
      "metadata": {
        "id": "0SAiUA-cpoQU"
      },
      "execution_count": 35,
      "outputs": []
    },
    {
      "cell_type": "code",
      "source": [
        "model = keras.Sequential()\n",
        "model.add(keras.layers.Conv1D(filters=10, kernel_size=4, activation='relu', input_shape=(n_timesteps,n_features)))\n",
        "model.add(keras.layers.Conv1D(filters=10, kernel_size=4, activation='relu'))\n",
        "model.add(keras.layers.Dropout(0.5))\n",
        "model.add(keras.layers.MaxPooling1D(pool_size=2))\n",
        "model.add(keras.layers.Flatten())\n",
        "model.add(keras.layers.Dense(100, activation='relu'))\n",
        "model.add(keras.layers.Dense(4, activation='softmax'))\n",
        "model.compile(loss='categorical_crossentropy', optimizer='adam', metrics=['accuracy'])"
      ],
      "metadata": {
        "id": "DseCbc8SqB3z"
      },
      "execution_count": 41,
      "outputs": []
    },
    {
      "cell_type": "code",
      "source": [
        "training_dataset = ifthenelse_features[:int(len(ifthenelse_features)*0.1)]\n",
        "training_labels = ifthenelse_labels[:int(len(ifthenelse_labels)*0.1)]\n",
        "val_dataset = ifthenelse_features[int(len(ifthenelse_features)*0.1):int(len(ifthenelse_features)*0.15)]\n",
        "val_labels = ifthenelse_labels[int(len(ifthenelse_labels)*0.1):int(len(ifthenelse_labels)*0.15)]"
      ],
      "metadata": {
        "id": "6W6yvM3HqkET"
      },
      "execution_count": 36,
      "outputs": []
    },
    {
      "cell_type": "code",
      "source": [
        "es=keras.callbacks.EarlyStopping(monitor='val_accuracy', mode='max', verbose=1, patience=3,min_delta=0.05)\n",
        "history = model.fit(training_dataset,training_labels,validation_data=(val_dataset,val_labels),epochs=100,batch_size=32,callbacks=[es], verbose=1)"
      ],
      "metadata": {
        "colab": {
          "base_uri": "https://localhost:8080/"
        },
        "id": "M0xMjCTNrv7j",
        "outputId": "9d0e81ea-0d3e-4c4a-bfac-804233ef04da"
      },
      "execution_count": 42,
      "outputs": [
        {
          "output_type": "stream",
          "name": "stdout",
          "text": [
            "Epoch 1/100\n",
            "1565/1565 [==============================] - 14s 8ms/step - loss: 0.1725 - accuracy: 0.9388 - val_loss: 0.0145 - val_accuracy: 0.9980\n",
            "Epoch 2/100\n",
            "1565/1565 [==============================] - 12s 7ms/step - loss: 0.0452 - accuracy: 0.9862 - val_loss: 0.0067 - val_accuracy: 0.9990\n",
            "Epoch 3/100\n",
            "1565/1565 [==============================] - 12s 8ms/step - loss: 0.0314 - accuracy: 0.9908 - val_loss: 0.0118 - val_accuracy: 0.9990\n",
            "Epoch 4/100\n",
            "1565/1565 [==============================] - 15s 10ms/step - loss: 0.0285 - accuracy: 0.9910 - val_loss: 0.0054 - val_accuracy: 0.9990\n",
            "Epoch 4: early stopping\n"
          ]
        }
      ]
    },
    {
      "cell_type": "code",
      "source": [
        "test_dataset = ifthenelse_features[int(len(ifthenelse_features)*0.15):]\n",
        "test_labels = ifthenelse_labels[int(len(ifthenelse_labels)*0.15):]"
      ],
      "metadata": {
        "id": "qAD1LVmSs_Lb"
      },
      "execution_count": 45,
      "outputs": []
    },
    {
      "cell_type": "code",
      "source": [
        "score = model.evaluate(test_dataset, test_labels, verbose=0)\n",
        "print('Test loss:', score[0])\n",
        "print('Test accuracy:', score[1])"
      ],
      "metadata": {
        "colab": {
          "base_uri": "https://localhost:8080/"
        },
        "id": "qwa7d8fetaWp",
        "outputId": "56d8ad4e-96bd-4d2c-8f37-e7ac03a2332d"
      },
      "execution_count": 46,
      "outputs": [
        {
          "output_type": "stream",
          "name": "stdout",
          "text": [
            "Test loss: 0.005434003658592701\n",
            "Test accuracy: 0.9990033507347107\n"
          ]
        }
      ]
    },
    {
      "cell_type": "markdown",
      "source": [
        "## Nested Dataset"
      ],
      "metadata": {
        "id": "HIO6sMucuB77"
      }
    },
    {
      "cell_type": "code",
      "source": [
        "nested_features, nested_labels = f.generateTraceFeatures(nested_filepath, 4, num_of_classes)"
      ],
      "metadata": {
        "id": "Uhf6Rqfbt0KQ"
      },
      "execution_count": 98,
      "outputs": []
    },
    {
      "cell_type": "code",
      "source": [
        "nested_labels = nested_labels.reshape(-1,1)\n",
        "Label_encoder = OneHotEncoder(sparse=False)\n",
        "Label_encoder.fit(nested_labels)\n",
        "nested_labels = Label_encoder.transform(nested_labels)\n",
        "nested_labels.shape"
      ],
      "metadata": {
        "colab": {
          "base_uri": "https://localhost:8080/"
        },
        "id": "sQOaPdzIuGL6",
        "outputId": "7fe1947f-6265-44fe-9d10-4767fa4d11f0"
      },
      "execution_count": 99,
      "outputs": [
        {
          "output_type": "execute_result",
          "data": {
            "text/plain": [
              "(500496, 12)"
            ]
          },
          "metadata": {},
          "execution_count": 99
        }
      ]
    },
    {
      "cell_type": "code",
      "source": [
        "nested_features = np.expand_dims(nested_features,2)"
      ],
      "metadata": {
        "id": "6G50bQs_ucIA"
      },
      "execution_count": 100,
      "outputs": []
    },
    {
      "cell_type": "code",
      "source": [
        "n_timesteps, n_features, n_outputs = nested_features.shape[1], nested_features.shape[2], nested_labels.shape[1]"
      ],
      "metadata": {
        "id": "jpP_u_Qsumop"
      },
      "execution_count": 101,
      "outputs": []
    },
    {
      "cell_type": "code",
      "source": [
        "nested_features.shape"
      ],
      "metadata": {
        "colab": {
          "base_uri": "https://localhost:8080/"
        },
        "id": "dMAMixJ8xH-9",
        "outputId": "cbff6e29-192f-473c-8e9d-68622b8dd3bb"
      },
      "execution_count": 102,
      "outputs": [
        {
          "output_type": "execute_result",
          "data": {
            "text/plain": [
              "(500496, 64, 1)"
            ]
          },
          "metadata": {},
          "execution_count": 102
        }
      ]
    },
    {
      "cell_type": "code",
      "source": [
        "model = keras.Sequential()\n",
        "model.add(keras.layers.Conv1D(filters=25, kernel_size=32, activation='relu', input_shape=(n_timesteps,n_features)))\n",
        "model.add(keras.layers.Conv1D(filters=25, kernel_size=32, activation='relu'))\n",
        "model.add(keras.layers.Dropout(0.5))\n",
        "model.add(keras.layers.MaxPooling1D(pool_size=2))\n",
        "model.add(keras.layers.Flatten())\n",
        "model.add(keras.layers.Dense(100, activation='relu'))\n",
        "model.add(keras.layers.Dense(n_outputs, activation='softmax'))\n",
        "model.compile(loss='categorical_crossentropy', optimizer='adam', metrics=['accuracy'])"
      ],
      "metadata": {
        "id": "FH-r6ceuu0sK"
      },
      "execution_count": 104,
      "outputs": []
    },
    {
      "cell_type": "code",
      "source": [
        "training_dataset = nested_features[:int(len(nested_features)*0.1)]\n",
        "training_labels = nested_labels[:int(len(nested_labels)*0.1)]\n",
        "val_dataset = nested_features[int(len(nested_features)*0.1):int(len(nested_features)*0.15)]\n",
        "val_labels = nested_labels[int(len(nested_labels)*0.1):int(len(nested_labels)*0.15)]"
      ],
      "metadata": {
        "id": "Q9h_m5LQu4Vy"
      },
      "execution_count": 105,
      "outputs": []
    },
    {
      "cell_type": "code",
      "source": [
        "es=keras.callbacks.EarlyStopping(monitor='val_accuracy', mode='max', verbose=1, patience=3,min_delta=0.005)\n",
        "history = model.fit(training_dataset,training_labels,validation_data=(val_dataset,val_labels),epochs=100,batch_size=32,callbacks=[es], verbose=1)"
      ],
      "metadata": {
        "colab": {
          "base_uri": "https://localhost:8080/"
        },
        "id": "N5_kU9NrvFyV",
        "outputId": "ad56ec5d-8660-47f7-957f-c8212948f07e"
      },
      "execution_count": 106,
      "outputs": [
        {
          "output_type": "stream",
          "name": "stdout",
          "text": [
            "Epoch 1/100\n",
            "1565/1565 [==============================] - 14s 8ms/step - loss: 0.8804 - accuracy: 0.7042 - val_loss: 0.5711 - val_accuracy: 0.7582\n",
            "Epoch 2/100\n",
            "1565/1565 [==============================] - 11s 7ms/step - loss: 0.5841 - accuracy: 0.7664 - val_loss: 0.5443 - val_accuracy: 0.7792\n",
            "Epoch 3/100\n",
            "1565/1565 [==============================] - 11s 7ms/step - loss: 0.5625 - accuracy: 0.7689 - val_loss: 0.5403 - val_accuracy: 0.7792\n",
            "Epoch 4/100\n",
            "1565/1565 [==============================] - 12s 8ms/step - loss: 0.5497 - accuracy: 0.7701 - val_loss: 0.5335 - val_accuracy: 0.7722\n",
            "Epoch 5/100\n",
            "1565/1565 [==============================] - 13s 8ms/step - loss: 0.5404 - accuracy: 0.7713 - val_loss: 0.5190 - val_accuracy: 0.7502\n",
            "Epoch 5: early stopping\n"
          ]
        }
      ]
    },
    {
      "cell_type": "code",
      "source": [
        "test_dataset = nested_features[int(len(ifthenelse_features)*0.15):]\n",
        "test_labels = nested_labels[int(len(ifthenelse_labels)*0.15):]"
      ],
      "metadata": {
        "id": "tLL6K9u7Utqz"
      },
      "execution_count": 107,
      "outputs": []
    },
    {
      "cell_type": "code",
      "source": [
        "score = model.evaluate(test_dataset, test_labels, verbose=0)\n",
        "print('Test loss:', score[0])\n",
        "print('Test accuracy:', score[1])"
      ],
      "metadata": {
        "colab": {
          "base_uri": "https://localhost:8080/"
        },
        "id": "gUFDFHB2U3vS",
        "outputId": "2c3dc056-2f19-4964-e453-b54270c73114"
      },
      "execution_count": 108,
      "outputs": [
        {
          "output_type": "stream",
          "name": "stdout",
          "text": [
            "Test loss: 0.5189937353134155\n",
            "Test accuracy: 0.7502503395080566\n"
          ]
        }
      ]
    },
    {
      "cell_type": "code",
      "source": [
        "import matplotlib.pyplot as plt\n",
        "\n",
        "fig, ax = plt.subplots()\n",
        "index = np.arange(2)\n",
        "bar_width = 0.35\n",
        "opacity = 0.8\n",
        "rects2 = plt.bar(index + bar_width, [1-0.999, 1-0.750], bar_width,\n",
        "                    alpha=opacity,\n",
        "                    color='g',\n",
        "                    label='Test Error')\n",
        "\n",
        "plt.ylabel('Error')\n",
        "plt.title('CNN Test Errors')\n",
        "plt.xticks(index + bar_width, ('If-then-else', 'Nested'))\n",
        "plt.legend()\n",
        "plt.tight_layout()\n",
        "plt.show()"
      ],
      "metadata": {
        "colab": {
          "base_uri": "https://localhost:8080/",
          "height": 297
        },
        "id": "5CulMQOQmaGo",
        "outputId": "cf1bfc10-94f4-4417-d3ea-0e236c6dff25"
      },
      "execution_count": 110,
      "outputs": [
        {
          "output_type": "display_data",
          "data": {
            "text/plain": [
              "<Figure size 432x288 with 1 Axes>"
            ],
            "image/png": "[encoded data removed]"
          },
          "metadata": {
            "needs_background": "light"
          }
        }
      ]
    }
  ]
}